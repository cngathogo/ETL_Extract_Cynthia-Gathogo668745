{
 "cells": [
  {
   "cell_type": "code",
   "execution_count": null,
   "id": "1e94e15d-491b-4bc2-ac58-559d0261d66f",
   "metadata": {},
   "outputs": [
    {
     "name": "stdout",
     "output_type": "stream",
     "text": [
      "Rows: 299\n",
      "Columns: 14\n",
      "\n",
      "Sample data:\n",
      "    age  anaemia  creatinine_phosphokinase  diabetes  ejection_fraction  \\\n",
      "0  75.0        0                       582         0                 20   \n",
      "1  55.0        0                      7861         0                 38   \n",
      "2  65.0        0                       146         0                 20   \n",
      "3  50.0        1                       111         0                 20   \n",
      "4  65.0        1                       160         1                 20   \n",
      "\n",
      "   high_blood_pressure  platelets  serum_creatinine  serum_sodium  sex  \\\n",
      "0                    1  265000.00               1.9           130    1   \n",
      "1                    0  263358.03               1.1           136    1   \n",
      "2                    0  162000.00               1.3           129    1   \n",
      "3                    0  210000.00               1.9           137    1   \n",
      "4                    0  327000.00               2.7           116    0   \n",
      "\n",
      "   smoking  time  DEATH_EVENT                   timestamp  \n",
      "0        0     4            1  2025-06-10 21:59:06.728920  \n",
      "1        0     6            1  2025-06-10 21:59:06.728920  \n",
      "2        1     7            1  2025-06-10 21:59:06.728920  \n",
      "3        0     7            1  2025-06-10 21:59:06.728920  \n",
      "4        0     8            1  2025-06-10 21:59:06.728920  \n",
      "\n",
      "Extracted 299 rows fully.\n"
     ]
    }
   ],
   "source": [
    "import pandas as pd\n",
    "\n",
    "# Load dataset\n",
    "df = pd.read_csv(\"custom_data.csv.zip\")\n",
    "\n",
    "# Displaying basic stats\n",
    "print(\"Rows:\", df.shape[0])\n",
    "print(\"Columns:\", df.shape[1])\n",
    "print(\"\\nSample data:\")\n",
    "print(df.head())\n",
    "\n",
    "# Success message\n",
    "print(f\"\\nExtracted {df.shape[0]} rows fully.\")\n"
   ]
  },
  {
   "cell_type": "code",
   "execution_count": null,
   "id": "a383fb26-e7f3-404b-be5c-1be32e38ec69",
   "metadata": {},
   "outputs": [
    {
     "name": "stdout",
     "output_type": "stream",
     "text": [
      "['.git', '.gitignore', 'custom_data_with_timestamp.csv.zip', 'etl_extract.ipynb', 'last_extraction.txt', 'README.md']\n"
     ]
    }
   ],
   "source": [
    "#Confirming the files present in the folder\n",
    "import os\n",
    "print(os.listdir())\n",
    "\n"
   ]
  },
  {
   "cell_type": "code",
   "execution_count": 21,
   "id": "8e9a1e2a",
   "metadata": {},
   "outputs": [
    {
     "name": "stdout",
     "output_type": "stream",
     "text": [
      "Extracted 0 rows incrementally since last check.\n"
     ]
    },
    {
     "data": {
      "text/html": [
       "<div>\n",
       "<style scoped>\n",
       "    .dataframe tbody tr th:only-of-type {\n",
       "        vertical-align: middle;\n",
       "    }\n",
       "\n",
       "    .dataframe tbody tr th {\n",
       "        vertical-align: top;\n",
       "    }\n",
       "\n",
       "    .dataframe thead th {\n",
       "        text-align: right;\n",
       "    }\n",
       "</style>\n",
       "<table border=\"1\" class=\"dataframe\">\n",
       "  <thead>\n",
       "    <tr style=\"text-align: right;\">\n",
       "      <th></th>\n",
       "      <th>age</th>\n",
       "      <th>anaemia</th>\n",
       "      <th>creatinine_phosphokinase</th>\n",
       "      <th>diabetes</th>\n",
       "      <th>ejection_fraction</th>\n",
       "      <th>high_blood_pressure</th>\n",
       "      <th>platelets</th>\n",
       "      <th>serum_creatinine</th>\n",
       "      <th>serum_sodium</th>\n",
       "      <th>sex</th>\n",
       "      <th>smoking</th>\n",
       "      <th>time</th>\n",
       "      <th>DEATH_EVENT</th>\n",
       "      <th>timestamp</th>\n",
       "    </tr>\n",
       "  </thead>\n",
       "  <tbody>\n",
       "  </tbody>\n",
       "</table>\n",
       "</div>"
      ],
      "text/plain": [
       "Empty DataFrame\n",
       "Columns: [age, anaemia, creatinine_phosphokinase, diabetes, ejection_fraction, high_blood_pressure, platelets, serum_creatinine, serum_sodium, sex, smoking, time, DEATH_EVENT, timestamp]\n",
       "Index: []"
      ]
     },
     "metadata": {},
     "output_type": "display_data"
    }
   ],
   "source": [
    "import pandas as pd\n",
    "from datetime import datetime\n",
    "\n",
    "# Load the dataset \n",
    "df = pd.read_csv(\"custom_data_with_timestamp.csv.zip\")\n",
    "\n",
    "# Convert the 'timestamp' column to datetime\n",
    "df['timestamp'] = pd.to_datetime(df['timestamp'])\n",
    "\n",
    "# Simulate or read last extraction time\n",
    "try:\n",
    "    with open(\"last_extraction.txt\", \"r\") as f:\n",
    "        last_time = datetime.strptime(f.read().strip(), \"%Y-%m-%d %H:%M:%S\")\n",
    "except FileNotFoundError:\n",
    "    # If the file doesn't exist, simulate an old timestamp\n",
    "    last_time = datetime(2024, 6, 1, 0, 0, 0)\n",
    "\n",
    "# Filter rows updated since last extraction\n",
    "new_data = df[df['timestamp'] > last_time]\n",
    "\n",
    "# Display result\n",
    "print(f\"Extracted {len(new_data)} rows incrementally since last check.\")\n",
    "display(new_data.head())\n",
    "\n",
    "# Save current time to last_extraction.txt\n",
    "with open(\"last_extraction.txt\", \"w\") as f:\n",
    "    f.write(datetime.now().strftime(\"%Y-%m-%d %H:%M:%S\"))\n",
    "\n"
   ]
  },
  {
   "cell_type": "code",
   "execution_count": 25,
   "id": "9e304839",
   "metadata": {},
   "outputs": [],
   "source": [
    "#Updating the last extraction file\n",
    "with open(\"last_extraction.txt\", \"w\") as f:\n",
    "    f.write(datetime.now().strftime(\"%Y-%m-%d %H:%M:%S\"))\n"
   ]
  }
 ],
 "metadata": {
  "kernelspec": {
   "display_name": "Python 3",
   "language": "python",
   "name": "python3"
  },
  "language_info": {
   "codemirror_mode": {
    "name": "ipython",
    "version": 3
   },
   "file_extension": ".py",
   "mimetype": "text/x-python",
   "name": "python",
   "nbconvert_exporter": "python",
   "pygments_lexer": "ipython3",
   "version": "3.12.4"
  }
 },
 "nbformat": 4,
 "nbformat_minor": 5
}
